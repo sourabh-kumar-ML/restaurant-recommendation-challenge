{
 "cells": [
  {
   "cell_type": "code",
   "execution_count": 1,
   "metadata": {
    "_cell_guid": "b1076dfc-b9ad-4769-8c92-a6c4dae69d19",
    "_uuid": "8f2839f25d086af736a60e9eeb907d3b93b6e0e5"
   },
   "outputs": [
    {
     "name": "stdout",
     "output_type": "stream",
     "text": [
      "/kaggle/input/restaurant-recommendation-challenge/train_locations.csv\n",
      "/kaggle/input/restaurant-recommendation-challenge/test_full.csv\n",
      "/kaggle/input/restaurant-recommendation-challenge/VariableDefinitions.txt\n",
      "/kaggle/input/restaurant-recommendation-challenge/vendors.csv\n",
      "/kaggle/input/restaurant-recommendation-challenge/SampleSubmission (1).csv\n",
      "/kaggle/input/restaurant-recommendation-challenge/test_locations.csv\n",
      "/kaggle/input/restaurant-recommendation-challenge/test_customers.csv\n",
      "/kaggle/input/restaurant-recommendation-challenge/train_customers.csv\n",
      "/kaggle/input/restaurant-recommendation-challenge/orders.csv\n",
      "/kaggle/input/restaurant-recommendation-challenge/train_full.csv\n"
     ]
    }
   ],
   "source": [
    "# This Python 3 environment comes with many helpful analytics libraries installed\n",
    "# It is defined by the kaggle/python Docker image: https://github.com/kaggle/docker-python\n",
    "# For example, here's several helpful packages to load\n",
    "\n",
    "import numpy as np # linear algebra\n",
    "import pandas as pd # data processing, CSV file I/O (e.g. pd.read_csv)\n",
    "\n",
    "# Input data files are available in the read-only \"../input/\" directory\n",
    "# For example, running this (by clicking run or pressing Shift+Enter) will list all files under the input directory\n",
    "\n",
    "import os\n",
    "for dirname, _, filenames in os.walk('/kaggle/input'):\n",
    "    for filename in filenames:\n",
    "        print(os.path.join(dirname, filename))\n",
    "\n",
    "# You can write up to 20GB to the current directory (/kaggle/working/) that gets preserved as output when you create a version using \"Save & Run All\" \n",
    "# You can also write temporary files to /kaggle/temp/, but they won't be saved outside of the current session"
   ]
  },
  {
   "cell_type": "markdown",
   "metadata": {},
   "source": [
    "### Installing pyspark"
   ]
  },
  {
   "cell_type": "code",
   "execution_count": 2,
   "metadata": {
    "_cell_guid": "79c7e3d0-c299-4dcb-8224-4455121ee9b0",
    "_uuid": "d629ff2d2480ee46fbb7e2d37f6b5fab8052498a"
   },
   "outputs": [
    {
     "name": "stdout",
     "output_type": "stream",
     "text": [
      "Collecting pyspark\n",
      "  Downloading pyspark-3.0.1.tar.gz (204.2 MB)\n",
      "\u001b[K     |████████████████████████████████| 204.2 MB 29 kB/s s eta 0:00:01   |█▉                              | 11.5 MB 7.0 MB/s eta 0:00:28\n",
      "\u001b[?25hCollecting py4j==0.10.9\n",
      "  Downloading py4j-0.10.9-py2.py3-none-any.whl (198 kB)\n",
      "\u001b[K     |████████████████████████████████| 198 kB 57.8 MB/s eta 0:00:01\n",
      "\u001b[?25hBuilding wheels for collected packages: pyspark\n",
      "  Building wheel for pyspark (setup.py) ... \u001b[?25ldone\n",
      "\u001b[?25h  Created wheel for pyspark: filename=pyspark-3.0.1-py2.py3-none-any.whl size=204612244 sha256=b5ef3724334bce94b540c52036a71e339570f246e1af91a6b8ff9c6035527b99\n",
      "  Stored in directory: /root/.cache/pip/wheels/5e/34/fa/b37b5cef503fc5148b478b2495043ba61b079120b7ff379f9b\n",
      "Successfully built pyspark\n",
      "Installing collected packages: py4j, pyspark\n",
      "Successfully installed py4j-0.10.9 pyspark-3.0.1\n",
      "\u001b[33mWARNING: You are using pip version 20.3.1; however, version 20.3.3 is available.\n",
      "You should consider upgrading via the '/opt/conda/bin/python3.7 -m pip install --upgrade pip' command.\u001b[0m\n"
     ]
    }
   ],
   "source": [
    "!pip3 install pyspark"
   ]
  },
  {
   "cell_type": "markdown",
   "metadata": {},
   "source": [
    "# Import required libraries"
   ]
  },
  {
   "cell_type": "code",
   "execution_count": 3,
   "metadata": {},
   "outputs": [],
   "source": [
    "# start spark session\n",
    "\n",
    "from pyspark import SparkContext\n",
    "sc = SparkContext()\n",
    "from pyspark import SQLContext\n",
    "sqlContext = SQLContext(sc)"
   ]
  },
  {
   "cell_type": "code",
   "execution_count": 4,
   "metadata": {},
   "outputs": [],
   "source": [
    "from tqdm.notebook import tqdm\n",
    "from pyspark.sql.types import *\n",
    "import pyspark.sql.functions as F\n",
    "import pyspark.ml as ml\n",
    "import pandas as pd\n",
    "\n",
    "from pyspark.mllib.evaluation import MulticlassMetrics\n",
    "from pyspark.ml.evaluation import MulticlassClassificationEvaluator\n",
    "\n",
    "import matplotlib.pyplot as plt"
   ]
  },
  {
   "cell_type": "markdown",
   "metadata": {},
   "source": [
    "# Read data"
   ]
  },
  {
   "cell_type": "code",
   "execution_count": 5,
   "metadata": {},
   "outputs": [],
   "source": [
    "data = sqlContext.read.format('csv').options(header='true').load(\"../input/restaurant-recommendation-challenge/train_full.csv\")\n",
    "orders = sqlContext.read.format('csv').options(header='true').load(\"../input/restaurant-recommendation-challenge/orders.csv\")\n",
    "train_cus =sqlContext.read.format('csv').options(header='true').load(\"../input/restaurant-recommendation-challenge/train_customers.csv\")"
   ]
  },
  {
   "cell_type": "code",
   "execution_count": null,
   "metadata": {},
   "outputs": [],
   "source": []
  },
  {
   "cell_type": "code",
   "execution_count": 6,
   "metadata": {},
   "outputs": [
    {
     "name": "stdout",
     "output_type": "stream",
     "text": [
      "+-----------+------+--------+----------+-------------------+-------------------+---------------+-------------+----------+-----------+---+-----------------+----------+-----------+------------------+------------------+---------------+----------------+-------+---------------+------------+---------------+----------+-------------------+-------------------+--------+----------+----+--------+-------------+-----------------+---------------+-----------------+---------------+-----------------+---------------+-----------------+---------------+------------------+----------------+------------------+----------------+--------------------+------------------+--------------------+------------------+-------------------+-----------------+-------------------+-----------------+-----------------+---------------+-----------------+---------------+-------------------+-----------------+-------------------+-----------------+--------------------+----------------+--------------------+--------------------+----------------+----------+-------+-------------------+-------------------+-----------+--------------+-------------------+------+----------------------+------+\n",
      "|customer_id|gender|status_x|verified_x|       created_at_x|       updated_at_x|location_number|location_type|latitude_x|longitude_x| id|authentication_id|latitude_y|longitude_y|vendor_category_en|vendor_category_id|delivery_charge|serving_distance|is_open|    OpeningTime|OpeningTime2|prepration_time|commission|is_akeed_delivering|discount_percentage|status_y|verified_y|rank|language|vendor_rating|sunday_from_time1|sunday_to_time1|sunday_from_time2|sunday_to_time2|monday_from_time1|monday_to_time1|monday_from_time2|monday_to_time2|tuesday_from_time1|tuesday_to_time1|tuesday_from_time2|tuesday_to_time2|wednesday_from_time1|wednesday_to_time1|wednesday_from_time2|wednesday_to_time2|thursday_from_time1|thursday_to_time1|thursday_from_time2|thursday_to_time2|friday_from_time1|friday_to_time1|friday_from_time2|friday_to_time2|saturday_from_time1|saturday_to_time1|saturday_from_time2|saturday_to_time2|        primary_tags|open_close_flags|          vendor_tag|     vendor_tag_name|one_click_vendor|country_id|city_id|       created_at_y|       updated_at_y|device_type|display_orders|location_number_obj|id_obj|CID X LOC_NUM X VENDOR|target|\n",
      "+-----------+------+--------+----------+-------------------+-------------------+---------------+-------------+----------+-----------+---+-----------------+----------+-----------+------------------+------------------+---------------+----------------+-------+---------------+------------+---------------+----------+-------------------+-------------------+--------+----------+----+--------+-------------+-----------------+---------------+-----------------+---------------+-----------------+---------------+-----------------+---------------+------------------+----------------+------------------+----------------+--------------------+------------------+--------------------+------------------+-------------------+-----------------+-------------------+-----------------+-----------------+---------------+-----------------+---------------+-------------------+-----------------+-------------------+-----------------+--------------------+----------------+--------------------+--------------------+----------------+----------+-------+-------------------+-------------------+-----------+--------------+-------------------+------+----------------------+------+\n",
      "|    TCHWPBT|  Male|       1|         1|2018-02-07 19:16:23|2018-02-07 19:16:23|              0|         Work|    -96.44|      -67.2|  4|         118597.0|   -0.5884|     0.7544|       Restaurants|               2.0|            0.0|             6.0|    1.0|11:00AM-11:30PM|           -|             15|       0.0|                Yes|                0.0|     1.0|         1|  11|      EN|          4.4|         00:00:00|       00:30:00|         08:00:00|       23:59:00|         00:00:00|       00:30:00|         08:00:00|       23:59:00|          00:00:00|        00:30:00|          08:00:00|        23:59:00|            00:00:00|          00:30:00|            08:00:00|          23:59:00|           00:00:00|         00:30:00|           08:00:00|         23:59:00|         00:00:00|       00:30:00|         10:00:00|       23:59:00|           00:00:00|         00:30:00|           10:00:00|         23:59:00|\"{\"\"primary_tags\"...|             1.0|2,4,5,8,91,22,12,...|Arabic,Breakfast,...|               Y|       1.0|    1.0|2018-01-30 14:42:04|2020-04-07 15:12:43|          3|             1|                  0|     4|       TCHWPBT X 0 X 4|     0|\n",
      "|    TCHWPBT|  Male|       1|         1|2018-02-07 19:16:23|2018-02-07 19:16:23|              0|         Work|    -96.44|      -67.2| 13|         118608.0|   -0.4717|     0.7446|       Restaurants|               2.0|            0.7|             5.0|    1.0|08:30AM-10:30PM|           -|             14|       0.0|                Yes|                0.0|     1.0|         1|  11|      EN|          4.7|         00:00:00|       01:30:00|         08:00:00|       23:59:00|         00:00:00|       01:30:00|         08:00:00|       23:59:00|          00:00:00|        01:30:00|          08:00:00|        23:59:00|            00:00:00|          01:30:00|            08:00:00|          19:30:00|           00:00:00|         01:30:00|           08:00:00|         19:30:00|         00:00:00|       01:30:00|         08:00:00|       23:59:00|           00:00:00|         01:30:00|           08:00:00|         23:59:00|\"{\"\"primary_tags\"...|             1.0|4,41,51,34,27,15,...|Breakfast,Cakes,C...|               Y|       1.0|    1.0|2018-05-03 12:32:06|2020-04-05 20:46:03|          3|             1|                  0|    13|      TCHWPBT X 0 X 13|     0|\n",
      "|    TCHWPBT|  Male|       1|         1|2018-02-07 19:16:23|2018-02-07 19:16:23|              0|         Work|    -96.44|      -67.2| 20|         118616.0|   -0.4075|     0.6436|       Restaurants|               2.0|            0.0|             8.0|    1.0|08:00AM-10:45PM|           -|             19|       0.0|                Yes|                0.0|     1.0|         1|   1|      EN|          4.5|         08:00:00|       22:45:00|             null|           null|         08:00:00|       22:45:00|             null|           null|          08:00:00|        22:45:00|              null|            null|            08:00:00|          22:45:00|                null|              null|           08:00:00|         22:45:00|               null|             null|         08:00:00|       22:45:00|             null|           null|           08:00:00|         22:45:00|               null|             null|\"{\"\"primary_tags\"...|             1.0|           4,8,91,10|Breakfast,Dessert...|               Y|       1.0|    1.0|2018-05-04 22:28:22|2020-04-07 16:35:55|          3|             1|                  0|    20|      TCHWPBT X 0 X 20|     0|\n",
      "|    TCHWPBT|  Male|       1|         1|2018-02-07 19:16:23|2018-02-07 19:16:23|              0|         Work|    -96.44|      -67.2| 23|         118619.0|   -0.5854|      0.754|       Restaurants|               2.0|            0.0|             5.0|    1.0|10:59AM-10:30PM|           -|             16|       0.0|                Yes|                0.0|     1.0|         1|  11|      EN|          4.5|         09:00:00|       23:30:00|             null|           null|         09:00:00|       23:30:00|             null|           null|          09:00:00|        23:30:00|              null|            null|            09:00:00|          23:30:00|                null|              null|           09:00:00|         23:45:00|               null|             null|         09:00:00|       23:45:00|             null|           null|           09:00:00|         23:45:00|               null|             null|\"{\"\"primary_tags\"...|             1.0|           5,8,30,24|Burgers,Desserts,...|               Y|       1.0|    1.0|2018-05-06 19:20:48|2020-04-02 00:56:17|          3|             1|                  0|    23|      TCHWPBT X 0 X 23|     0|\n",
      "|    TCHWPBT|  Male|       1|         1|2018-02-07 19:16:23|2018-02-07 19:16:23|              0|         Work|    -96.44|      -67.2| 28|         118624.0|    0.4807|     0.5527|       Restaurants|               2.0|            0.7|            15.0|    1.0|11:00AM-11:45PM|           -|             10|       0.0|                Yes|                0.0|     1.0|         1|  11|      EN|          4.4|         00:01:00|       00:30:00|         11:00:00|       23:59:00|         00:01:00|       00:30:00|         11:00:00|       23:59:00|          00:01:00|        00:30:00|          11:00:00|        23:59:00|            00:01:00|          00:30:00|            11:00:00|          23:59:00|           00:01:00|         00:30:00|           11:00:00|         23:59:00|         00:01:00|       01:30:00|         17:45:00|       23:59:00|           00:01:00|         01:30:00|           17:45:00|         23:59:00|\"{\"\"primary_tags\"...|             1.0|                   5|             Burgers|               Y|       1.0|    1.0|2018-05-17 22:12:38|2020-04-05 15:57:41|          3|             1|                  0|    28|      TCHWPBT X 0 X 28|     0|\n",
      "+-----------+------+--------+----------+-------------------+-------------------+---------------+-------------+----------+-----------+---+-----------------+----------+-----------+------------------+------------------+---------------+----------------+-------+---------------+------------+---------------+----------+-------------------+-------------------+--------+----------+----+--------+-------------+-----------------+---------------+-----------------+---------------+-----------------+---------------+-----------------+---------------+------------------+----------------+------------------+----------------+--------------------+------------------+--------------------+------------------+-------------------+-----------------+-------------------+-----------------+-----------------+---------------+-----------------+---------------+-------------------+-----------------+-------------------+-----------------+--------------------+----------------+--------------------+--------------------+----------------+----------+-------+-------------------+-------------------+-----------+--------------+-------------------+------+----------------------+------+\n",
      "only showing top 5 rows\n",
      "\n"
     ]
    }
   ],
   "source": [
    "#Top 5 rows\n",
    "data.show(5)"
   ]
  },
  {
   "cell_type": "markdown",
   "metadata": {},
   "source": [
    "# Feature engineering "
   ]
  },
  {
   "cell_type": "markdown",
   "metadata": {},
   "source": [
    "#### Dropping unnecessary features"
   ]
  },
  {
   "cell_type": "code",
   "execution_count": 7,
   "metadata": {},
   "outputs": [],
   "source": [
    "weekdays = ['monday', 'tuesday', 'wednesday', 'thursday', \n",
    "            'friday', 'saturday', 'sunday']"
   ]
  },
  {
   "cell_type": "code",
   "execution_count": 8,
   "metadata": {},
   "outputs": [],
   "source": [
    "\n",
    "for col in weekdays:\n",
    "    for column in data.columns:\n",
    "        if col in column:\n",
    "            data = data.drop(column)"
   ]
  },
  {
   "cell_type": "code",
   "execution_count": 9,
   "metadata": {},
   "outputs": [],
   "source": [
    "col = ['commission', 'display_orders', 'country_id', 'CID X LOC_NUM X VENDOR',\n",
    "    'city_id', 'vendor_category_en', 'latitude_x','latitude_y', 'longitude_x', 'longitude_y','akeed_order_id', 'CID X LOC_NUM X VENDOR']\n",
    "for c in col:\n",
    "    data = data.drop(c)"
   ]
  },
  {
   "cell_type": "code",
   "execution_count": 10,
   "metadata": {},
   "outputs": [],
   "source": [
    "train_cus = train_cus.drop(\"language\")"
   ]
  },
  {
   "cell_type": "markdown",
   "metadata": {},
   "source": [
    "#### Converting datatype of numerical Features"
   ]
  },
  {
   "cell_type": "code",
   "execution_count": 11,
   "metadata": {},
   "outputs": [],
   "source": [
    "num_cols = ['delivery_charge', 'serving_distance', 'vendor_rating', \n",
    "                'prepration_time', 'discount_percentage', 'verified_x', \n",
    "                'is_open', 'status_y', 'verified_y', 'rank', \n",
    "                'open_close_flags', 'location_number_obj']"
   ]
  },
  {
   "cell_type": "code",
   "execution_count": 12,
   "metadata": {},
   "outputs": [],
   "source": [
    "for col in num_cols:\n",
    "   data = data.withColumn(\n",
    "        col, data[col].cast(DoubleType()))\n",
    "\n",
    "data = data.withColumn(\n",
    "        'target', data['target'].cast(DoubleType()))"
   ]
  },
  {
   "cell_type": "code",
   "execution_count": 13,
   "metadata": {},
   "outputs": [],
   "source": [
    "data = data.withColumn(\n",
    "    'primary_tags', F.regexp_extract(\n",
    "        data['primary_tags'], r\"[0-9]+\", 0))\n",
    "\n",
    "data = data.withColumn(\n",
    "    'primary_tags', data[col].cast(DoubleType()))\n"
   ]
  },
  {
   "cell_type": "markdown",
   "metadata": {},
   "source": [
    "#### Merging train_full.csv with train_customers.csv on customer_id"
   ]
  },
  {
   "cell_type": "code",
   "execution_count": 14,
   "metadata": {},
   "outputs": [],
   "source": [
    "data = data.withColumnRenamed('akeed_customer_id', 'customer_id')\n",
    "train_cus = train_cus.withColumnRenamed('akeed_customer_id', 'customer_id')\n",
    "complete_data = data.join(train_cus, on=['customer_id'])"
   ]
  },
  {
   "cell_type": "code",
   "execution_count": 15,
   "metadata": {},
   "outputs": [],
   "source": [
    "complete_data = complete_data.drop('gender').drop('language').drop(\"dob\")"
   ]
  },
  {
   "cell_type": "code",
   "execution_count": 16,
   "metadata": {},
   "outputs": [],
   "source": [
    "#Handling nan values\n",
    "complete_data = complete_data.fillna({'location_type': 'unknown'})"
   ]
  },
  {
   "cell_type": "code",
   "execution_count": 17,
   "metadata": {},
   "outputs": [],
   "source": [
    "# Most of these features contains null values on a large scale\n",
    "drop_cols = ['OpeningTime', 'OpeningTime2', 'language', \n",
    "           'customer_id', 'vendor_tag', 'vendor_tag_name', \n",
    "           'created_at', 'updated_at', 'id', 'authentication_id', \n",
    "           'id_obj', 'is_akeed_delivering', 'one_click_vendor','created_at_x','created_at_y','updated_at_x','updated_at_y']"
   ]
  },
  {
   "cell_type": "code",
   "execution_count": 18,
   "metadata": {},
   "outputs": [],
   "source": [
    "for col in drop_cols:\n",
    "    complete_data.drop(col)"
   ]
  },
  {
   "cell_type": "code",
   "execution_count": 19,
   "metadata": {},
   "outputs": [],
   "source": [
    "categorical_features = ['location_number', 'location_type', 'status_x',\n",
    "               'vendor_category_id', 'device_type', 'status', \n",
    "               'verified']"
   ]
  },
  {
   "cell_type": "code",
   "execution_count": 20,
   "metadata": {},
   "outputs": [],
   "source": [
    "# Encoding categorical features\n",
    "for col in categorical_features:\n",
    "    stringIndexer = ml.feature.StringIndexer(inputCol=col, outputCol=col + \"_ind\")\n",
    "    indexer = stringIndexer.fit(complete_data)\n",
    "    complete_data = indexer.transform(complete_data)\n",
    "    encoder = ml.feature.OneHotEncoder(\n",
    "        inputCols=[stringIndexer.getOutputCol()], outputCols=[col + \"_ohe\"])\n",
    "    ohe_encoder = encoder.fit(complete_data)\n",
    "    complete_data = ohe_encoder.transform(complete_data)\n",
    "    "
   ]
  },
  {
   "cell_type": "code",
   "execution_count": 21,
   "metadata": {},
   "outputs": [],
   "source": [
    "# defining output features\n",
    "columns_extracted = num_cols + [col+'_ohe' for col in categorical_features]\n",
    "assembler = ml.feature.VectorAssembler(inputCols=columns_extracted, outputCol=\"features\")\n",
    "\n",
    "train_data = assembler.transform(complete_data)"
   ]
  },
  {
   "cell_type": "markdown",
   "metadata": {},
   "source": [
    "#### Balancing data based on target feature"
   ]
  },
  {
   "cell_type": "code",
   "execution_count": 22,
   "metadata": {},
   "outputs": [],
   "source": [
    "balanced_data = train_data.filter(train_data.target==1.0)\n",
    "sampled_0 = train_data.filter(train_data.target==0.0).distinct()\n",
    "sampled_0 = sampled_0.sample(False, fraction = balanced_data.count()/sampled_0.count())"
   ]
  },
  {
   "cell_type": "code",
   "execution_count": 23,
   "metadata": {},
   "outputs": [],
   "source": [
    "balanced_data = balanced_data.unionByName(sampled_0)"
   ]
  },
  {
   "cell_type": "code",
   "execution_count": 24,
   "metadata": {},
   "outputs": [],
   "source": [
    "train, test = balanced_data.randomSplit([0.80,0.20], seed=52)"
   ]
  },
  {
   "cell_type": "code",
   "execution_count": null,
   "metadata": {},
   "outputs": [],
   "source": []
  },
  {
   "cell_type": "markdown",
   "metadata": {},
   "source": [
    "# Models"
   ]
  },
  {
   "cell_type": "markdown",
   "metadata": {},
   "source": [
    "## Logistic regression"
   ]
  },
  {
   "cell_type": "code",
   "execution_count": 25,
   "metadata": {},
   "outputs": [],
   "source": [
    "#Training and predicting with logistic regression\n",
    "log_reg = ml.classification.LogisticRegression(labelCol='target', featuresCol='features')\n",
    "log_reg=log_reg.fit(train)\n",
    "\n",
    "predicted_log = log_reg.transform(test)"
   ]
  },
  {
   "cell_type": "markdown",
   "metadata": {},
   "source": [
    "## Decision Tree Classifier"
   ]
  },
  {
   "cell_type": "code",
   "execution_count": 26,
   "metadata": {},
   "outputs": [],
   "source": [
    "#Training and predicting with decision Tree classifier\n",
    "tree = ml.classification.DecisionTreeClassifier(labelCol='target', featuresCol='features')\n",
    "tree = tree.fit(train)\n",
    "\n",
    "predict_tree = tree.transform(test)"
   ]
  },
  {
   "cell_type": "markdown",
   "metadata": {},
   "source": [
    "#### Metrics"
   ]
  },
  {
   "cell_type": "code",
   "execution_count": null,
   "metadata": {},
   "outputs": [],
   "source": [
    "evaluator = MulticlassClassificationEvaluator(labelCol = \"target\")"
   ]
  },
  {
   "cell_type": "code",
   "execution_count": 27,
   "metadata": {},
   "outputs": [
    {
     "ename": "NameError",
     "evalue": "name 'evaluator' is not defined",
     "output_type": "error",
     "traceback": [
      "\u001b[0;31m---------------------------------------------------------------------------\u001b[0m",
      "\u001b[0;31mNameError\u001b[0m                                 Traceback (most recent call last)",
      "\u001b[0;32m<ipython-input-27-a7866c839c38>\u001b[0m in \u001b[0;36m<module>\u001b[0;34m\u001b[0m\n\u001b[1;32m      1\u001b[0m \u001b[0mpredictionAndLabels\u001b[0m \u001b[0;34m=\u001b[0m \u001b[0mpredicted_log\u001b[0m\u001b[0;34m.\u001b[0m\u001b[0mselect\u001b[0m\u001b[0;34m(\u001b[0m\u001b[0;34m\"prediction\"\u001b[0m\u001b[0;34m,\u001b[0m \u001b[0;34m\"target\"\u001b[0m\u001b[0;34m)\u001b[0m\u001b[0;34m\u001b[0m\u001b[0;34m\u001b[0m\u001b[0m\n\u001b[1;32m      2\u001b[0m \u001b[0;34m\u001b[0m\u001b[0m\n\u001b[0;32m----> 3\u001b[0;31m \u001b[0mfscore_log\u001b[0m \u001b[0;34m=\u001b[0m \u001b[0mevaluator\u001b[0m\u001b[0;34m.\u001b[0m\u001b[0mevaluate\u001b[0m\u001b[0;34m(\u001b[0m\u001b[0mpredictionAndLabels\u001b[0m\u001b[0;34m)\u001b[0m\u001b[0;34m\u001b[0m\u001b[0;34m\u001b[0m\u001b[0m\n\u001b[0m\u001b[1;32m      4\u001b[0m \u001b[0maccuracy_log\u001b[0m \u001b[0;34m=\u001b[0m \u001b[0mevaluator\u001b[0m\u001b[0;34m.\u001b[0m\u001b[0mevaluate\u001b[0m\u001b[0;34m(\u001b[0m\u001b[0mpredictionAndLabels\u001b[0m\u001b[0;34m,\u001b[0m \u001b[0;34m{\u001b[0m\u001b[0mevaluator\u001b[0m\u001b[0;34m.\u001b[0m\u001b[0mmetricName\u001b[0m\u001b[0;34m:\u001b[0m \u001b[0;34m\"accuracy\"\u001b[0m\u001b[0;34m}\u001b[0m\u001b[0;34m)\u001b[0m\u001b[0;34m\u001b[0m\u001b[0;34m\u001b[0m\u001b[0m\n\u001b[1;32m      5\u001b[0m \u001b[0mprecision_log\u001b[0m \u001b[0;34m=\u001b[0m \u001b[0mevaluator\u001b[0m\u001b[0;34m.\u001b[0m\u001b[0mevaluate\u001b[0m\u001b[0;34m(\u001b[0m\u001b[0mpredictionAndLabels\u001b[0m\u001b[0;34m,\u001b[0m \u001b[0;34m{\u001b[0m\u001b[0mevaluator\u001b[0m\u001b[0;34m.\u001b[0m\u001b[0mmetricName\u001b[0m\u001b[0;34m:\u001b[0m \u001b[0;34m\"weightedPrecision\"\u001b[0m\u001b[0;34m}\u001b[0m\u001b[0;34m)\u001b[0m\u001b[0;34m\u001b[0m\u001b[0;34m\u001b[0m\u001b[0m\n",
      "\u001b[0;31mNameError\u001b[0m: name 'evaluator' is not defined"
     ]
    }
   ],
   "source": [
    "predictionAndLabels = predicted_log.select(\"prediction\", \"target\")\n",
    "#F1score\n",
    "fscore_log = evaluator.evaluate(predictionAndLabels)\n",
    "#Accuracy\n",
    "accuracy_log = evaluator.evaluate(predictionAndLabels, {evaluator.metricName: \"accuracy\"})\n",
    "#precision\n",
    "precision_log = evaluator.evaluate(predictionAndLabels, {evaluator.metricName: \"weightedPrecision\"})\n",
    "#Recall\n",
    "recall_log = evaluator.evaluate(predictionAndLabels, {evaluator.metricName: \"weightedRecall\"})"
   ]
  },
  {
   "cell_type": "code",
   "execution_count": null,
   "metadata": {},
   "outputs": [],
   "source": [
    "predictionAndLabels = predict_tree.select(\"prediction\", \"target\")\n",
    "\n",
    "fscore_tree = evaluator.evaluate(predictionAndLabels)\n",
    "accuracy_tree = evaluator.evaluate(predictionAndLabels, {evaluator.metricName: \"accuracy\"})\n",
    "precision_tree = evaluator.evaluate(predictionAndLabels, {evaluator.metricName: \"weightedPrecision\"})\n",
    "recall_tree = evaluator.evaluate(predictionAndLabels, {evaluator.metricName: \"weightedRecall\"})"
   ]
  },
  {
   "cell_type": "markdown",
   "metadata": {},
   "source": [
    "## Plotting values"
   ]
  },
  {
   "cell_type": "code",
   "execution_count": null,
   "metadata": {},
   "outputs": [],
   "source": [
    "plt.title('Accuracy Comparison')\n",
    "plt.bar(['Logistic Regression','Decision Tree'],[accuracy_log,accuracy_tree],width=0.8,color='g')\n",
    "plt.xticks(rotation=90)\n",
    "plt.show()\n"
   ]
  },
  {
   "cell_type": "code",
   "execution_count": null,
   "metadata": {},
   "outputs": [],
   "source": [
    "plt.title('F1Score Comparison')\n",
    "plt.bar(['Logistic Regression','Decision Tree'],[fscore_log,fscore_tree],width=0.8,color='g')\n",
    "plt.xticks(rotation=90)\n",
    "plt.show()\n",
    "print(\"Logistic Regression : {}\\nDecision Tree : {}\".format(fscore_log,fscore_tree))"
   ]
  },
  {
   "cell_type": "code",
   "execution_count": null,
   "metadata": {},
   "outputs": [],
   "source": [
    "plt.title('Precision Comparison')\n",
    "plt.bar(['Logistic Regression','Decision Tree'],[precision_log,precision_tree],width=0.8,color='g')\n",
    "plt.xticks(rotation=90)\n",
    "plt.show()\n",
    "print(\"Logistic Regression : {}\\nDecision Tree : {}\".format(precision_log,precision_tree))"
   ]
  },
  {
   "cell_type": "code",
   "execution_count": null,
   "metadata": {},
   "outputs": [],
   "source": [
    "plt.title('Recall Comparison')\n",
    "plt.bar(['Logistic Regression','Decision Tree'],[recall_log,recall_tree],width=0.8,color='g')\n",
    "plt.xticks(rotation=90)\n",
    "plt.show()\n",
    "print(\"Logistic Regression : {}\\nDecision Tree : {}\".format(recall_log,recall_tree))"
   ]
  },
  {
   "cell_type": "code",
   "execution_count": null,
   "metadata": {},
   "outputs": [],
   "source": []
  }
 ],
 "metadata": {
  "kernelspec": {
   "display_name": "Python 3",
   "language": "python",
   "name": "python3"
  },
  "language_info": {
   "codemirror_mode": {
    "name": "ipython",
    "version": 3
   },
   "file_extension": ".py",
   "mimetype": "text/x-python",
   "name": "python",
   "nbconvert_exporter": "python",
   "pygments_lexer": "ipython3",
   "version": "3.7.3"
  }
 },
 "nbformat": 4,
 "nbformat_minor": 4
}
